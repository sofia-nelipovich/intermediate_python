{
  "cells": [
    {
      "cell_type": "markdown",
      "metadata": {
        "id": "5ktPX0pCqSRN"
      },
      "source": [
        "#Продвинутый Python, ДЗ-2\n",
        "\n",
        "Правила игры:\n",
        "\n",
        "В домашке 8 задач, разбаловка указана в задании. Суммарно за дз можно получить 100 баллов, что равняется 10 баллам\n",
        "\n",
        "В каждой задаче необходимо реализовать функцию, которая после будет проверяться через github classroom на тестах. Сами тесты лежит в гитхабе, можете локально проверить работу функций перед сдачей\n",
        "\n",
        "Дедлайн - 7 дней после выдачи дз. Необходимо залить решеннный ноутбук в github и прислать ссылку в Anytask (без выполнения любого из пунктов работа проверяться не будет)\n",
        "\n",
        "В данной домашке нужно использовать pandas"
      ]
    },
    {
      "cell_type": "code",
      "execution_count": 278,
      "metadata": {
        "id": "Rlek5byfvxPo"
      },
      "outputs": [],
      "source": [
        "# https://stackoverflow.com/a/60658965/7286121\n",
        "\n",
        "from IPython.core.magic import register_cell_magic\n",
        "\n",
        "@register_cell_magic\n",
        "def write_and_run(line, cell):\n",
        "    argz = line.split()\n",
        "    file = argz[-1]\n",
        "    mode = 'w'\n",
        "    if len(argz) == 2 and argz[0] == '-a':\n",
        "        mode = 'a'\n",
        "    with open(file, mode) as f:\n",
        "        f.write(cell)\n",
        "    get_ipython().run_cell(cell)"
      ]
    },
    {
      "cell_type": "markdown",
      "metadata": {
        "id": "63di75_vqbTp"
      },
      "source": [
        "## Данные"
      ]
    },
    {
      "cell_type": "markdown",
      "metadata": {
        "id": "krcmq1NUqeCS"
      },
      "source": [
        "В этом домашнем задании вам придется оказаться на месте аналитика в бразильском маркетплейсе [Olist](https://olist.com/pt-br/). Вам необходимо исследовать данные и на их основании сделать выводы, которые помогут бизнесу расцветать!\n",
        "\n",
        "Данные находятся тут в файле archive.zip"
      ]
    },
    {
      "cell_type": "code",
      "execution_count": null,
      "metadata": {
        "id": "5U4xc4-9b9XR"
      },
      "outputs": [],
      "source": [
        "#!pip install wget\n",
        "#перед сдачей это закомментить"
      ]
    },
    {
      "cell_type": "code",
      "execution_count": 279,
      "metadata": {
        "id": "ItTnixKIrtHQ"
      },
      "outputs": [],
      "source": [
        "# Код, который будет в каждом тесте, названия не менять\n",
        "import pandas as pd\n",
        "import numpy as np\n",
        "import zipfile\n",
        "import wget\n",
        "\n",
        "url = 'https://github.com/Palladain/Deep_Python/raw/main/Homeworks/Homework_1/archive.zip'\n",
        "filename = wget.download(url)\n",
        "\n",
        "with zipfile.ZipFile(filename, 'r') as zip_ref:\n",
        "    zip_ref.extractall('./')\n",
        "\n",
        "customers = pd.read_csv('olist_customers_dataset.csv')\n",
        "location = pd.read_csv('olist_geolocation_dataset.csv')\n",
        "items = pd.read_csv('olist_order_items_dataset.csv')\n",
        "payments = pd.read_csv('olist_order_payments_dataset.csv')\n",
        "reviews = pd.read_csv('olist_order_reviews_dataset.csv')\n",
        "orders = pd.read_csv('olist_orders_dataset.csv')\n",
        "products = pd.read_csv('olist_products_dataset.csv')\n",
        "translation = pd.read_csv('product_category_name_translation.csv')\n",
        "sellers = pd.read_csv('olist_sellers_dataset.csv')"
      ]
    },
    {
      "cell_type": "markdown",
      "metadata": {
        "id": "LLos28bYrbR2"
      },
      "source": [
        "Ван дано 9 датасетов, которые содержат в себе все данные по 100 000 заказам со всей Бразилии. Чтобы облегчить вам жизнь, вот связи по этим датасетам (файл product_category_name_translation является переводом названий категорий с португальского на английский)"
      ]
    },
    {
      "cell_type": "markdown",
      "metadata": {
        "id": "lXXie4hQrdhI"
      },
      "source": [
        "![](https://i.imgur.com/HRhd2Y0.png)"
      ]
    },
    {
      "cell_type": "markdown",
      "metadata": {
        "id": "4pUMuhE1rWhb"
      },
      "source": [
        "Ну что же, начнем!"
      ]
    },
    {
      "cell_type": "markdown",
      "metadata": {
        "id": "VnjVNWlFrVKG"
      },
      "source": [
        "## Задание 1 (10 баллов)"
      ]
    },
    {
      "cell_type": "markdown",
      "metadata": {
        "id": "2Qt0BXIIvXOx"
      },
      "source": [
        "Определите:\n",
        "\n",
        "* Число товаров\n",
        "\n",
        "* Среднюю стоимость товара (стоимость товара = среднее от цен в датасете items)\n",
        "\n",
        "в разрезе категорий (все категории должны быть на английском языке)\n",
        "\n",
        "Табличка, которая у вас должна получиться:\n",
        "\n",
        "```\n",
        "category | products | price\n",
        "\n",
        "value    | value      | value\n",
        "```\n",
        "\n",
        "**Обратите внимание:**\n",
        "\n",
        "Для категории portateis_cozinha_e_preparadores_de_alimentos перевод portable kitchen and food preparers\n",
        "\n",
        "Для категории pc_gamer перевод PC Gamer\n",
        "\n",
        "Для них нужно отдельно добавить перевод"
      ]
    },
    {
      "cell_type": "code",
      "execution_count": 153,
      "metadata": {
        "id": "PWVaTwBFrkFj"
      },
      "outputs": [],
      "source": [
        "%%write_and_run task_1.py\n",
        "\n",
        "# важно! все зависимости, которые используете (если добавляее новые) в этом классе надо явно продублировать в эту ячейку\n",
        "import numpy as np\n",
        "import pandas as pd\n",
        "\n",
        "def task_1(translation, items, products):\n",
        "\n",
        "    prices = items[['product_id', 'price']].groupby(['product_id']).agg({'price' : 'mean'})\n",
        "\n",
        "    new_table = pd.merge(products[['product_id', 'product_category_name']], prices, on='product_id')\n",
        "\n",
        "    agg_func = {'product_id': pd.Series.nunique, 'price' : 'mean'}\n",
        "    items_info = new_table.groupby(['product_category_name']).agg(agg_func).rename(columns={'product_id': 'products'})\n",
        "\n",
        "    add_tr = pd.DataFrame([['portateis_cozinha_e_preparadores_de_alimentos', 'portable kitchen and food preparers'], ['pc_gamer', 'PC Gamer']], columns=list(translation.columns))\n",
        "    translation = pd.concat([translation, add_tr])\n",
        "\n",
        "    table_translated = pd.merge(items_info, translation, on='product_category_name')[['product_category_name_english', 'products', 'price']].rename(columns={'product_category_name_english': 'category'})\n",
        "\n",
        "    return table_translated\n",
        "    "
      ]
    },
    {
      "cell_type": "markdown",
      "metadata": {
        "id": "yUh0q89ztKMV"
      },
      "source": [
        "## Задание 2 (10 баллов)"
      ]
    },
    {
      "cell_type": "markdown",
      "metadata": {
        "id": "3PM7DzaRzO9x"
      },
      "source": [
        "Определите для каждого продавца основную категорию их продаж (категории должны быть на английском языке)\n",
        "\n",
        "Табличка, которая у вас должна получиться:\n",
        "\n",
        "```\n",
        "seller_id | category\n",
        "\n",
        "value    | value\n",
        "```\n",
        "\n",
        "\n"
      ]
    },
    {
      "cell_type": "code",
      "execution_count": 311,
      "metadata": {
        "id": "YCKMxSNtzdxO"
      },
      "outputs": [
        {
          "name": "stdout",
          "output_type": "stream",
          "text": [
            "[3] [4] [4] [4] [8] [8] [10] [12] [13] [14] [15] [16] [17] [17] [18] [18] [19] [20] [21] [22] [23] [28] [36] [43] [44] [53] [54] [59] [64] [69] [77] [86] [97] [102] [118] [125] [155] [212] [222] [256] [289] [310] "
          ]
        }
      ],
      "source": [
        "%%write_and_run task_2.py\n",
        "\n",
        "# важно! все зависимости, которые используете (если добавляее новые) в этом классе надо явно продублировать в эту ячейку\n",
        "import numpy as np\n",
        "import pandas as pd\n",
        "\n",
        "def task_2(translation, products, items):\n",
        "    # add_tr = pd.DataFrame([['portateis_cozinha_e_preparadores_de_alimentos', 'portable kitchen and food preparers'], ['pc_gamer', 'PC Gamer']], columns=list(translation.columns))\n",
        "    # translation = pd.concat([translation, add_tr])\n",
        "    new_table = pd.merge(products[['product_id', 'product_category_name']], items[['product_id', 'seller_id']].dropna(), on='product_id', how='right')\n",
        "\n",
        "    agg_func = {'product_id': 'count'}\n",
        "    items_info = new_table.groupby(['seller_id', 'product_category_name']).agg(agg_func).rename(columns={'product_id': 'products'}).reset_index()\n",
        "    \n",
        "    items_info = items_info.sort_values('products', ascending=False).drop_duplicates(subset='seller_id')[['seller_id', 'product_category_name']].reset_index()\n",
        "    table_translated = pd.merge(items_info, translation, on='product_category_name', how='left')[['seller_id', 'product_category_name_english']].rename(columns={'product_category_name_english': 'category'})\n",
        "    return table_translated"
      ]
    },
    {
      "cell_type": "markdown",
      "metadata": {
        "id": "DQemvudwt4mt"
      },
      "source": [
        "## Задание 3 (10 баллов)"
      ]
    },
    {
      "cell_type": "markdown",
      "metadata": {
        "id": "X6wytIx56ivp"
      },
      "source": [
        "Выведите долю потраченных денег по каждому штату (потраченные деньги - сумма денег по доставленным заказам, сумма по price и freight_value)\n",
        "\n",
        "*Примечание:* разбивка по штатам - по штату покупателя, процент - число от 0 до 1\n",
        "\n",
        "\n",
        "Табличка, которая у вас должна получиться:\n",
        "\n",
        "```\n",
        "state | perc\n",
        "\n",
        "value | value\n",
        "```"
      ]
    },
    {
      "cell_type": "code",
      "execution_count": 351,
      "metadata": {
        "id": "WH5QCAJi3sWk"
      },
      "outputs": [],
      "source": [
        "%%write_and_run task_3.py\n",
        "\n",
        "# важно! все зависимости, которые используете (если добавляее новые) в этом классе надо явно продублировать в эту ячейку\n",
        "import numpy as np\n",
        "import pandas as pd\n",
        "\n",
        "def task_3(orders, customers, items):\n",
        "    # orders -> order_id, customer_id, order_status\n",
        "    # items -> order_id, price, freight_value\n",
        "    # customers -> customer_id, customer_state\n",
        "\n",
        "    # items_prices -> order_id, customer_id, order_status, price, freight_value\n",
        "    items_prices = pd.merge(orders, items[['order_id', 'price', 'freight_value', 'order_item_id']], on='order_id')\n",
        "    items_prices.loc[items_prices.order_item_id != 1, 'freight_value'] = 0\n",
        "\n",
        "    # items_prices -> order_id, customer_id, price, freight_value\n",
        "    items_prices = items_prices[(items_prices['order_status'] == 'delivered')][['order_id', 'customer_id', 'price', 'freight_value']]\n",
        "    items_prices['sum'] = items['price'] + items['freight_value']\n",
        "\n",
        "    # items_prices -> order_id, customer_id,  sum\n",
        "    items_prices = items_prices[['order_id', 'customer_id', 'sum']]\n",
        "    sum_ = items_prices.sum()\n",
        "    \n",
        "    # new_table -> customer_state, sum\n",
        "    new_table = pd.merge(customers[['customer_id', 'customer_state']], items_prices, on='customer_id')[['customer_state', 'sum']]\n",
        "    new_table = new_table.groupby('customer_state').agg({'sum': lambda x: sum(x) / sum_[-1]}).reset_index().rename(columns={'customer_state' : 'state', 'sum' : 'perc'})\n",
        "\n",
        "    return new_table\n"
      ]
    },
    {
      "cell_type": "markdown",
      "metadata": {
        "id": "2Z5KBkyet7wB"
      },
      "source": [
        "## Задание 4 (10 баллов)"
      ]
    },
    {
      "cell_type": "markdown",
      "metadata": {
        "id": "9klcqoBj80DL"
      },
      "source": [
        "Определите средний чек покупки (добавьте разбивку на стоимость самого заказ и стоимость доставки) и среднее число товаров в заказе\n",
        "\n",
        "А также определите среднее число покупок на пользователя (обратите внимание на идентификаторы)"
      ]
    },
    {
      "cell_type": "code",
      "execution_count": 338,
      "metadata": {
        "id": "lMqosgB-7OeQ"
      },
      "outputs": [],
      "source": [
        "%%write_and_run task_4.py\n",
        "\n",
        "# важно! все зависимости, которые используете (если добавляее новые) в этом классе надо явно продублировать в эту ячейку\n",
        "import numpy as np\n",
        "import pandas as pd\n",
        "\n",
        "def task_4(items, orders, customers):\n",
        "    # items -> order_id, price, freight_value\n",
        "    # orders -> order_id, order_item_id\n",
        "    # customers -> customer_unique_id\n",
        "\n",
        "    orders_grouped = items[['order_id', 'price', 'freight_value']].groupby('order_id').agg({'price': 'sum', 'freight_value': 'sum'}).reset_index()\n",
        "    price_avg = orders_grouped[['price']].mean().price\n",
        "    freight_avg = orders_grouped[['freight_value']].mean().freight_value\n",
        "\n",
        "    orders_counts = items[['order_id', 'order_item_id']].groupby('order_id').agg({'order_item_id': 'count'}).reset_index()\n",
        "    items_avg = orders_counts[['order_item_id']].mean().order_item_id\n",
        "\n",
        "    customers_orders = customers[['customer_unique_id', 'customer_id']].groupby('customer_unique_id').agg({'customer_id': 'count'}).reset_index()\n",
        "    orders_avg = customers_orders[['customer_id']].mean().customer_id\n",
        "\n",
        "    return (price_avg, freight_avg, items_avg, orders_avg)\n",
        "    "
      ]
    },
    {
      "cell_type": "markdown",
      "metadata": {
        "id": "pEHsUeuYuPsK"
      },
      "source": [
        "## Задание 5 (10 баллов)"
      ]
    },
    {
      "cell_type": "markdown",
      "metadata": {
        "id": "cGX_GxAs9Fww"
      },
      "source": [
        "Посчитайте CSAT (customer satisfaction - средняя оценка ревью) и отобразите средний CSAT по дням в период с апреля 2017 по апрель 2018 года\n",
        "\n",
        "Все манипуляции с датой необходимо сделать с помощью datetime и dateutil\n",
        "\n",
        "\n",
        "Табличка, которая у вас должна получиться:\n",
        "\n",
        "```\n",
        "date | csat\n",
        "\n",
        "\"YYYY-MM-DD\" | value\n",
        "```"
      ]
    },
    {
      "cell_type": "code",
      "execution_count": 340,
      "metadata": {
        "id": "Fu31Qrod9M_4"
      },
      "outputs": [],
      "source": [
        "%%write_and_run task_5.py\n",
        "\n",
        "# важно! все зависимости, которые используете (если добавляее новые) в этом классе надо явно продублировать в эту ячейку\n",
        "import numpy as np\n",
        "import pandas as pd\n",
        "from dateutil.parser import parse\n",
        "import datetime\n",
        "\n",
        "def task_5(reviews):\n",
        "    reviews['review_creation_date'] = pd.to_datetime(reviews['review_creation_date'])\n",
        "    reviews['date'] = reviews.review_creation_date.apply(lambda x: x.strftime('%Y-%m-%d'))\n",
        "    reviews = reviews[(reviews.date >= '2017-04-01') & (reviews.date <= '2018-04-30')]\n",
        "    res = reviews.groupby('date').review_score.mean().reset_index().rename(columns={'review_score':'csat'})\n",
        "    return res"
      ]
    },
    {
      "cell_type": "markdown",
      "metadata": {
        "id": "L-rho7C0uUTY"
      },
      "source": [
        "## Задание 6 (10 баллов)"
      ]
    },
    {
      "cell_type": "markdown",
      "metadata": {
        "id": "3H-lma4hL-sa"
      },
      "source": [
        "Посмотрите, как быстро отвечают пользователи (сделайте аггреграцию по числу дней ответа) и какая средняя оценка\n",
        "\n",
        "Все манипуляции со временем нужно делать через datetime и dateutil\n",
        "\n",
        "Табличка, которая у вас должна получиться:\n",
        "\n",
        "```\n",
        "days | csat | orders\n",
        "\n",
        "value | value | value\n",
        "```\n",
        "\n",
        "Результаты должны быть отсориртированы по дня по возрастанию"
      ]
    },
    {
      "cell_type": "code",
      "execution_count": 317,
      "metadata": {
        "id": "BCjO8WQgMeGC"
      },
      "outputs": [],
      "source": [
        "%%write_and_run task_6.py\n",
        "\n",
        "# важно! все зависимости, которые используете (если добавляее новые) в этом классе надо явно продублировать в эту ячейку\n",
        "import numpy as np\n",
        "import pandas as pd\n",
        "from dateutil.parser import parse\n",
        "import datetime\n",
        "\n",
        "def task_6(reviews):\n",
        "    reviews['review_creation_date'] = pd.to_datetime(reviews['review_creation_date'])\n",
        "    reviews['review_answer_timestamp'] = pd.to_datetime(reviews['review_answer_timestamp'])\n",
        "    reviews['days'] = reviews['review_answer_timestamp'] - reviews['review_creation_date']\n",
        "    reviews['days'] = reviews.days.apply(lambda x: x.days)\n",
        "    agg_func = {'order_id':'count','review_score':'mean'}\n",
        "    res = reviews.groupby('days').agg(agg_func).reset_index().rename(columns={'review_score':'csat', 'order_id':'orders'}).sort_values('days')\n",
        "    return res\n"
      ]
    },
    {
      "cell_type": "markdown",
      "metadata": {
        "id": "bc-MZgP2udIi"
      },
      "source": [
        "## Задание 7 (10 баллов)"
      ]
    },
    {
      "cell_type": "markdown",
      "metadata": {
        "id": "JxkpI1l0QO0i"
      },
      "source": [
        "Выделите все заказы, где не проставлено поле order_delivered_customer_date. Замените его на дату '2999-12-31'"
      ]
    },
    {
      "cell_type": "code",
      "execution_count": 292,
      "metadata": {
        "id": "oqIpnXvbP3FZ"
      },
      "outputs": [],
      "source": [
        "%%write_and_run task_7.py\n",
        "\n",
        "# важно! все зависимости, которые используете (если добавляее новые) в этом классе надо явно продублировать в эту ячейку\n",
        "import numpy as np\n",
        "import pandas as pd\n",
        "\n",
        "def task_7(orders):\n",
        "    orders['order_delivered_customer_date'] = orders['order_delivered_customer_date'].fillna('2999-12-31')\n",
        "    return orders"
      ]
    },
    {
      "cell_type": "markdown",
      "metadata": {
        "id": "TVbTTB9nuiHH"
      },
      "source": [
        "## Задание 8 (30 баллов)"
      ]
    },
    {
      "cell_type": "markdown",
      "metadata": {
        "id": "zeRxv6FDVeVJ"
      },
      "source": [
        "Определите топ-10 продавцов, у которых больше 100 заказов, отсылающие чаще всего свою посылку в другие регионы (считаются только доставленные заказы)\n",
        "\n",
        "Чаще всего отсылают = самый большой процент отправленных заказов в другой штат\n",
        "\n",
        "Табличка, которая у вас должна получиться:\n",
        "\n",
        "```\n",
        "seller_id | share\n",
        "\n",
        "value | value\n",
        "```"
      ]
    },
    {
      "cell_type": "code",
      "execution_count": 315,
      "metadata": {
        "id": "Nv1eFCg5WnlD"
      },
      "outputs": [],
      "source": [
        "%%write_and_run task_8.py\n",
        "\n",
        "# важно! все зависимости, которые используете (если добавляее новые) в этом классе надо явно продублировать в эту ячейку\n",
        "import numpy as np\n",
        "import pandas as pd\n",
        "\n",
        "def task_8(orders, items, sellers, customers):\n",
        "    orders = orders[orders['order_status'] == 'delivered']\n",
        "    \n",
        "    df = pd.merge(orders[['order_id', 'customer_id']], items[['order_id', 'seller_id']], on='order_id', how='inner')\n",
        "    df = pd.merge(df, customers[['customer_id', 'customer_state']], on='customer_id', how='inner').drop_duplicates(subset=['seller_id', 'order_id'])\n",
        "\n",
        "    df = pd.merge(df[['customer_state', 'seller_id']], sellers[['seller_id', 'seller_state']], on='seller_id')\n",
        "    df['share'] = df.apply(lambda x: x.customer_state != x.seller_state, axis=1)\n",
        "    agg_func={'share':'sum', 'customer_state':'count'}\n",
        "    res = df.groupby('seller_id').agg(agg_func).reset_index()\n",
        "    res['share'] = res.apply(lambda x: x.share/x.customer_state, axis=1)\n",
        "    res = res[res.customer_state > 100][['seller_id','share']].sort_values('share', ascending=False)[:10]\n",
        "    return res\n"
      ]
    }
  ],
  "metadata": {
    "colab": {
      "provenance": []
    },
    "kernelspec": {
      "display_name": "Python 3",
      "language": "python",
      "name": "python3"
    },
    "language_info": {
      "codemirror_mode": {
        "name": "ipython",
        "version": 3
      },
      "file_extension": ".py",
      "mimetype": "text/x-python",
      "name": "python",
      "nbconvert_exporter": "python",
      "pygments_lexer": "ipython3",
      "version": "3.11.6 (main, Oct  2 2023, 20:46:14) [Clang 14.0.3 (clang-1403.0.22.14.1)]"
    },
    "vscode": {
      "interpreter": {
        "hash": "b0fa6594d8f4cbf19f97940f81e996739fb7646882a419484c72d19e05852a7e"
      }
    }
  },
  "nbformat": 4,
  "nbformat_minor": 0
}
